{
 "cells": [
  {
   "cell_type": "code",
   "execution_count": 1,
   "id": "863d156a-896e-4966-8313-d34484375e3f",
   "metadata": {
    "scrolled": true
   },
   "outputs": [
    {
     "ename": "ModuleNotFoundError",
     "evalue": "No module named 'spacy'",
     "output_type": "error",
     "traceback": [
      "\u001b[0;31m---------------------------------------------------------------------------\u001b[0m",
      "\u001b[0;31mModuleNotFoundError\u001b[0m                       Traceback (most recent call last)",
      "Cell \u001b[0;32mIn[1], line 1\u001b[0m\n\u001b[0;32m----> 1\u001b[0m \u001b[38;5;28;01mimport\u001b[39;00m \u001b[38;5;21;01mspacy\u001b[39;00m\n\u001b[1;32m      2\u001b[0m nlp \u001b[38;5;241m=\u001b[39m spacy\u001b[38;5;241m.\u001b[39mload(\u001b[38;5;124m'\u001b[39m\u001b[38;5;124men_core_web_sm\u001b[39m\u001b[38;5;124m'\u001b[39m)\n\u001b[1;32m      3\u001b[0m text \u001b[38;5;241m=\u001b[39m \u001b[38;5;124m\"\u001b[39m\u001b[38;5;124mThe long-term stability of methylammonium lead triiodide (MAPbI3) perovskite in moist environments is a paramount challenge to realise the commercialization of perovskite solar cells. In an attempt to address this concern, we have carried out systematic first-principles studies on the MAPbI3 perovskite with a hydrophobic graphene layer interfaced as a water barrier. We find there is a charge transfer at the graphene/MAPbI3 interface and electrons can be excited from graphene into the perovskite surface, leading to well separated electron–hole pairs, i.e. reduced recombination. By studying the optical properties, we find the hybrid graphene/MAPbI3 nanocomposite displays enhanced light absorption compared with the pristine MAPbI3. Furthermore, from an ab initio molecular dynamics simulation, the graphene/MAPbI3 nanocomposite is confirmed to be able to resist the reaction with water molecules, highlighting a great advantage of this nanocomposite in promoting long-term photovoltaic performance.\u001b[39m\u001b[38;5;124m\"\u001b[39m\n",
      "\u001b[0;31mModuleNotFoundError\u001b[0m: No module named 'spacy'"
     ]
    }
   ],
   "source": [
    "import spacy\n",
    "nlp = spacy.load('en_core_web_sm')\n",
    "text = \"The long-term stability of methylammonium lead triiodide (MAPbI3) perovskite in moist environments is a paramount challenge to realise the commercialization of perovskite solar cells. In an attempt to address this concern, we have carried out systematic first-principles studies on the MAPbI3 perovskite with a hydrophobic graphene layer interfaced as a water barrier. We find there is a charge transfer at the graphene/MAPbI3 interface and electrons can be excited from graphene into the perovskite surface, leading to well separated electron–hole pairs, i.e. reduced recombination. By studying the optical properties, we find the hybrid graphene/MAPbI3 nanocomposite displays enhanced light absorption compared with the pristine MAPbI3. Furthermore, from an ab initio molecular dynamics simulation, the graphene/MAPbI3 nanocomposite is confirmed to be able to resist the reaction with water molecules, highlighting a great advantage of this nanocomposite in promoting long-term photovoltaic performance.\"\n",
    "\n",
    "doc = nlp(text)\n",
    "\n",
    "spacy.displacy.render(doc, style='ent')"
   ]
  },
  {
   "cell_type": "code",
   "execution_count": null,
   "id": "2c32193f-bbed-44f8-b3e0-d414384a7a94",
   "metadata": {},
   "outputs": [],
   "source": []
  },
  {
   "cell_type": "code",
   "execution_count": null,
   "id": "e485adb9-1d80-4159-b112-97b6139c1326",
   "metadata": {},
   "outputs": [],
   "source": []
  }
 ],
 "metadata": {
  "kernelspec": {
   "display_name": "Python 3 (ipykernel)",
   "language": "python",
   "name": "python3"
  },
  "language_info": {
   "codemirror_mode": {
    "name": "ipython",
    "version": 3
   },
   "file_extension": ".py",
   "mimetype": "text/x-python",
   "name": "python",
   "nbconvert_exporter": "python",
   "pygments_lexer": "ipython3",
   "version": "3.12.1"
  }
 },
 "nbformat": 4,
 "nbformat_minor": 5
}
